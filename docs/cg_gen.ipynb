{
 "cells": [
  {
   "cell_type": "code",
   "execution_count": 2,
   "metadata": {},
   "outputs": [
    {
     "name": "stdout",
     "output_type": "stream",
     "text": [
      "\"['C647', 'C776', 'C792', 'C793', 'C795', 'C796', 'C797', 'C801', 'C802', 'C803', 'C804', 'C805', 'C806', 'C808', 'C809']\"\n"
     ]
    }
   ],
   "source": [
    "cg_ref = \"C647 or C776 or C792 or C793 or C795 or C796 or C797 or C801 or C802 or C803 or C804 or C805 or C806 or C808 or C809\"\n",
    "\n",
    "arr = cg_ref.split(\" or \")\n",
    "\n",
    "string = '\"['\n",
    "for item in arr:\n",
    "    string+= f\"'{item}', \"\n",
    "\n",
    "print(string[:-2] + ']\"')"
   ]
  }
 ],
 "metadata": {
  "kernelspec": {
   "display_name": "Python 3",
   "language": "python",
   "name": "python3"
  },
  "language_info": {
   "codemirror_mode": {
    "name": "ipython",
    "version": 3
   },
   "file_extension": ".py",
   "mimetype": "text/x-python",
   "name": "python",
   "nbconvert_exporter": "python",
   "pygments_lexer": "ipython3",
   "version": "3.11.0"
  },
  "orig_nbformat": 4
 },
 "nbformat": 4,
 "nbformat_minor": 2
}
